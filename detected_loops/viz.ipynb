{
 "cells": [
  {
   "cell_type": "code",
   "execution_count": 57,
   "metadata": {},
   "outputs": [],
   "source": [
    "import pandas as pd\n",
    "\n",
    "input_file_path = '/media/baymax/1A52-86C0/new/detected_loops/findernet_loops.txt'  # Replace with the path to your input file\n",
    "output_file_path = '/media/baymax/1A52-86C0/new/detected_loops/findernet_loops_commas.txt'  # Replace with the desired path for the output file\n",
    "\n",
    "# Open the input file for reading\n",
    "with open(input_file_path, 'r') as infile:\n",
    "    # Read the content of the file\n",
    "    file_content = infile.read()\n",
    "\n",
    "# Replace '/' with ','\n",
    "file_content = file_content.replace('/', ',')\n",
    "\n",
    "# Open the output file for writing\n",
    "with open(output_file_path, 'w') as outfile:\n",
    "    # Write the modified content to the output file\n",
    "    outfile.write(file_content)"
   ]
  },
  {
   "cell_type": "code",
   "execution_count": 75,
   "metadata": {},
   "outputs": [
    {
     "name": "stdout",
     "output_type": "stream",
     "text": [
      "     0  2\n",
      "0    1  1\n",
      "254  1  2\n",
      "279  2  1\n",
      "284  2  2\n",
      "327  2  4\n",
      "471  3  3\n",
      "552  4  4\n",
      "760  4  2\n"
     ]
    }
   ],
   "source": [
    "df = pd.read_csv('/media/baymax/1A52-86C0/new/detected_loops/new_icp_loop.txt', delimiter=',', header=None)\n",
    "print(df.iloc[:, [0, 2]].drop_duplicates())\n",
    "\n",
    "# df = pd.read_csv('/media/baymax/1A52-86C0/new/detected_loops/noise_loop.txt', delimiter=',')\n",
    "# print(df.iloc[:, [0, 2]].drop_duplicates())"
   ]
  },
  {
   "cell_type": "code",
   "execution_count": 76,
   "metadata": {},
   "outputs": [],
   "source": [
    "df_np = df.to_numpy()"
   ]
  },
  {
   "cell_type": "code",
   "execution_count": 81,
   "metadata": {},
   "outputs": [
    {
     "name": "stdout",
     "output_type": "stream",
     "text": [
      "     0    1  2    3         4         5         6\n",
      "254  1  461  2    1  0.059769  0.033495  0.000000\n",
      "255  1  461  2    2  0.059765  0.033493  0.000000\n",
      "256  1  461  2    3  0.027386  0.015354  0.000000\n",
      "257  1  461  2    4 -0.019628 -0.010987  0.000000\n",
      "258  1  461  2    5 -0.042313 -0.023696  0.000000\n",
      "..  ..  ... ..  ...       ...       ...       ...\n",
      "406  2  140  4  345  0.046699 -0.057575  0.025133\n",
      "407  2  140  4  346  0.099708 -0.057200  0.025133\n",
      "408  2  140  4  347  0.199700 -0.056492  0.025133\n",
      "409  2  140  4  348  0.278686 -0.055934  0.025133\n",
      "760  4  378  2  100  0.084786 -0.077834 -0.075398\n",
      "\n",
      "[68 rows x 7 columns]\n"
     ]
    }
   ],
   "source": [
    "print(df[df.iloc[:,0] != df.iloc[:,2]])"
   ]
  },
  {
   "cell_type": "code",
   "execution_count": 3,
   "metadata": {},
   "outputs": [],
   "source": [
    "import open3d as o3d\n",
    "import numpy as np\n",
    "\n",
    "def create_se3_transform(yaw, translation):\n",
    "    \"\"\"\n",
    "    Create a 4x4 SE(3) transformation matrix.\n",
    "\n",
    "    Parameters:\n",
    "    - yaw: Yaw angle in radians\n",
    "    - translation: (tx, ty) translation components in the XY plane\n",
    "\n",
    "    Returns:\n",
    "    - transform_matrix: 4x4 homogeneous transformation matrix\n",
    "    \"\"\"\n",
    "    cos_theta = np.cos(yaw)\n",
    "    sin_theta = np.sin(yaw)\n",
    "    tx, ty = translation\n",
    "\n",
    "    transform_matrix = np.array([\n",
    "        [cos_theta, -sin_theta, 0, tx],\n",
    "        [sin_theta, cos_theta, 0, ty],\n",
    "        [0, 0, 1, 0],\n",
    "        [0, 0, 0, 1]\n",
    "    ])\n",
    "\n",
    "    return transform_matrix\n",
    "\n",
    "# Load the NumPy arrays for the two point clouds\n",
    "pcd1_path = '/media/baymax/1A52-86C0/new/detected_loops/pose_data/sync/pcd/2/130_pcd.npy'\n",
    "pcd2_path = '/media/baymax/1A52-86C0/new/detected_loops/pose_data/sync/pcd/4/353_pcd.npy'\n",
    "pcd1_data = np.load(pcd1_path)\n",
    "pcd2_data = np.load(pcd2_path)\n",
    "\n",
    "# Load the SE3 transform\n",
    "# Assuming transform is a 4x4 matrix (homogeneous transformation matrix)\n",
    "yaw_angle = 0.07539813220500946  # Yaw angle in radians\n",
    "translation_vector = (-0.033307552, -0.030717194)  # Translation in the XY plane and 0 in the Z direction\n",
    "transform_matrix = create_se3_transform(yaw_angle, translation_vector)\n",
    "\n",
    "# Create Open3D PointCloud objects\n",
    "pcd1 = o3d.geometry.PointCloud()\n",
    "pcd1.points = o3d.utility.Vector3dVector(pcd1_data)\n",
    "\n",
    "pcd2 = o3d.geometry.PointCloud()\n",
    "pcd2.points = o3d.utility.Vector3dVector(pcd2_data)\n",
    "\n",
    "# Apply the SE3 transform to pcd2\n",
    "pcd1.transform(transform_matrix)\n",
    "\n",
    "# Visualize both point clouds\n",
    "o3d.visualization.draw_geometries([pcd1, pcd2])"
   ]
  },
  {
   "cell_type": "code",
   "execution_count": null,
   "metadata": {},
   "outputs": [],
   "source": []
  }
 ],
 "metadata": {
  "kernelspec": {
   "display_name": "findernet",
   "language": "python",
   "name": "python3"
  },
  "language_info": {
   "codemirror_mode": {
    "name": "ipython",
    "version": 3
   },
   "file_extension": ".py",
   "mimetype": "text/x-python",
   "name": "python",
   "nbconvert_exporter": "python",
   "pygments_lexer": "ipython3",
   "version": "3.8.18"
  }
 },
 "nbformat": 4,
 "nbformat_minor": 2
}
